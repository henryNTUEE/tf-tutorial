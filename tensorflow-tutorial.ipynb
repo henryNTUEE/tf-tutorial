{
    "metadata": {
        "language_info": {
            "name": "python", 
            "file_extension": ".py", 
            "codemirror_mode": {
                "name": "ipython", 
                "version": 3
            }, 
            "mimetype": "text/x-python", 
            "nbconvert_exporter": "python", 
            "pygments_lexer": "ipython3", 
            "version": "3.5.2"
        }, 
        "kernelspec": {
            "name": "python3-spark21", 
            "display_name": "Python 3.5 (Experimental) with Spark 2.1", 
            "language": "python"
        }
    }, 
    "cells": [
        {
            "execution_count": 1, 
            "source": "import numpy as np\nimport tensorflow as tf", 
            "metadata": {
                "collapsed": true
            }, 
            "cell_type": "code", 
            "outputs": []
        }, 
        {
            "execution_count": 2, 
            "source": "# \u5ba3\u544a\u8b8a\u6578\nA = tf.placeholder(tf.float32, shape=(5, 5), name='A')\nv = tf.placeholder(tf.float32,shape=(5,1),name='B')", 
            "metadata": {}, 
            "cell_type": "code", 
            "outputs": []
        }, 
        {
            "execution_count": 3, 
            "source": "#\u77e9\u9663\u4e58\u6cd5\nw = tf.matmul(A,v)\n#\u4e58\u6cd5\u7684\u5f62\u5f0f \u6c92\u6709\u6578\u503c\nprint(w)", 
            "metadata": {}, 
            "cell_type": "code", 
            "outputs": [
                {
                    "name": "stdout", 
                    "output_type": "stream", 
                    "text": "Tensor(\"MatMul:0\", shape=(5, 1), dtype=float32)\n"
                }
            ]
        }, 
        {
            "execution_count": 4, 
            "source": "with tf.Session() as session:\n    # \u9935\u8b8a\u6578\u8981\u4f7f\u7528 \"feed_dict\" \u51fd\u5f0f\n    # v needs to be of shape=(5, 1) not just shape=(5,)\n    # \u5be6\u969b\u505a\u4e58\u6cd5\n    output = session.run(w, feed_dict={A: np.random.randn(5, 5), v: np.random.randn(5, 1)})\n    print(output, type(output))\n\n", 
            "metadata": {}, 
            "cell_type": "code", 
            "outputs": [
                {
                    "name": "stdout", 
                    "output_type": "stream", 
                    "text": "[[-1.2309109 ]\n [-1.17082393]\n [ 0.01909652]\n [-0.7955184 ]\n [-1.54416549]] <class 'numpy.ndarray'>\n"
                }
            ]
        }, 
        {
            "execution_count": 5, 
            "source": "# Tensorflow\u8b8a\u6578\u4e5f\u53ef\u4ee5\u7528 numpy array \u6216 tf array \u5ba3\u544a\nshape = (2, 2)\nx = tf.Variable(tf.random_normal(shape))\ny = tf.Variable(np.random.randn(2,2))\nt = tf.Variable(0) # a scalar\n#\u6c92\u6709\u6578\u503c\nprint('x: ', x)\nprint('y: ', x)\nprint('t: ', x)", 
            "metadata": {}, 
            "cell_type": "code", 
            "outputs": [
                {
                    "name": "stdout", 
                    "output_type": "stream", 
                    "text": "x:  Tensor(\"Variable/read:0\", shape=(2, 2), dtype=float32)\ny:  Tensor(\"Variable/read:0\", shape=(2, 2), dtype=float32)\nt:  Tensor(\"Variable/read:0\", shape=(2, 2), dtype=float32)\n"
                }
            ]
        }, 
        {
            "execution_count": 6, 
            "source": "# \u7d66\u5b9a\u6578\u503c\u524d\u8981\u5148\u5c07Variable\u521d\u59cb\u5316\ninit = tf.global_variables_initializer()", 
            "metadata": {
                "collapsed": true
            }, 
            "cell_type": "code", 
            "outputs": []
        }, 
        {
            "execution_count": 7, 
            "source": "with tf.Session() as session:\n    out = session.run(init)\n    print(out) # None\n    print('x: ',x.eval())\n    print('y: ',y.eval())\n    print('t: ',t.eval())", 
            "metadata": {}, 
            "cell_type": "code", 
            "outputs": [
                {
                    "name": "stdout", 
                    "output_type": "stream", 
                    "text": "None\nx:  [[-0.28817752 -1.16353154]\n [-1.20303273  0.60955507]]\ny:  [[ 0.50574625  1.21566868]\n [-0.41919547 -0.34724857]]\nt:  0\n"
                }
            ]
        }, 
        {
            "execution_count": 8, 
            "source": "# Tensorflow\u91cd\u9ede\uff1a\u51fd\u6578\u7684\u6700\u4f73\u5316 \u7bc4\u4f8b\nu = tf.Variable(20.0)\ncost = u*u + u + 1.0", 
            "metadata": {}, 
            "cell_type": "code", 
            "outputs": []
        }, 
        {
            "execution_count": 9, 
            "source": "#\u6700\u4f73\u5316\u65b9\u6cd5\uff1aGradient Descent\ntrain_op = tf.train.GradientDescentOptimizer(0.3).minimize(cost)\nprint(train_op)", 
            "metadata": {}, 
            "cell_type": "code", 
            "outputs": [
                {
                    "name": "stdout", 
                    "output_type": "stream", 
                    "text": "name: \"GradientDescent\"\nop: \"NoOp\"\ninput: \"^GradientDescent/update_Variable_3/ApplyGradientDescent\"\n\n"
                }
            ]
        }, 
        {
            "execution_count": 10, 
            "source": "init = tf.global_variables_initializer()", 
            "metadata": {
                "collapsed": true
            }, 
            "cell_type": "code", 
            "outputs": []
        }, 
        {
            "execution_count": 11, 
            "source": "with tf.Session() as session:\n    session.run(init)\n\n    # Strangely, while the weight update is automated, the loop itself is not.\n    # So we'll just call train_op until convergence.\n    # This is useful for us anyway since we want to track the cost function.\n    for i in range(12):\n        session.run(train_op)\n        print(\"i = %d, cost = %.3f, u = %.3f\" % (i, cost.eval(), u.eval()))", 
            "metadata": {}, 
            "cell_type": "code", 
            "outputs": [
                {
                    "name": "stdout", 
                    "output_type": "stream", 
                    "text": "i = 0, cost = 67.990, u = 7.700\ni = 1, cost = 11.508, u = 2.780\ni = 2, cost = 2.471, u = 0.812\ni = 3, cost = 1.025, u = 0.025\ni = 4, cost = 0.794, u = -0.290\ni = 5, cost = 0.757, u = -0.416\ni = 6, cost = 0.751, u = -0.466\ni = 7, cost = 0.750, u = -0.487\ni = 8, cost = 0.750, u = -0.495\ni = 9, cost = 0.750, u = -0.498\ni = 10, cost = 0.750, u = -0.499\ni = 11, cost = 0.750, u = -0.500\n"
                }
            ]
        }, 
        {
            "execution_count": null, 
            "source": "", 
            "metadata": {
                "collapsed": true
            }, 
            "cell_type": "code", 
            "outputs": []
        }
    ], 
    "nbformat": 4, 
    "nbformat_minor": 1
}